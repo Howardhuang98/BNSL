{
 "cells": [
  {
   "cell_type": "code",
   "execution_count": 6,
   "metadata": {},
   "outputs": [],
   "source": [
    "import pandas as pd\n",
    "\n",
    "from dlbn.estimators import *\n",
    "from dlbn.graph import *\n",
    "from dlbn.expert import Expert"
   ]
  },
  {
   "cell_type": "code",
   "execution_count": 7,
   "metadata": {
    "pycharm": {
     "name": "#%%\n"
    }
   },
   "outputs": [
    {
     "data": {
      "text/plain": "      smoke  bronc  lung  asia  tub  either  dysp  xray\n0         0      0     0     0    0       0     1     0\n1         0      0     0     0    0       0     0     0\n2         1      1     0     0    0       0     1     0\n3         1      1     0     0    0       0     0     0\n4         1      1     0     0    0       0     1     0\n...     ...    ...   ...   ...  ...     ...   ...   ...\n1995      1      1     0     0    0       0     1     0\n1996      0      0     0     0    0       0     0     0\n1997      1      0     0     0    0       0     0     0\n1998      1      1     1     0    0       1     1     0\n1999      1      1     0     0    0       0     1     0\n\n[2000 rows x 8 columns]",
      "text/html": "<div>\n<style scoped>\n    .dataframe tbody tr th:only-of-type {\n        vertical-align: middle;\n    }\n\n    .dataframe tbody tr th {\n        vertical-align: top;\n    }\n\n    .dataframe thead th {\n        text-align: right;\n    }\n</style>\n<table border=\"1\" class=\"dataframe\">\n  <thead>\n    <tr style=\"text-align: right;\">\n      <th></th>\n      <th>smoke</th>\n      <th>bronc</th>\n      <th>lung</th>\n      <th>asia</th>\n      <th>tub</th>\n      <th>either</th>\n      <th>dysp</th>\n      <th>xray</th>\n    </tr>\n  </thead>\n  <tbody>\n    <tr>\n      <th>0</th>\n      <td>0</td>\n      <td>0</td>\n      <td>0</td>\n      <td>0</td>\n      <td>0</td>\n      <td>0</td>\n      <td>1</td>\n      <td>0</td>\n    </tr>\n    <tr>\n      <th>1</th>\n      <td>0</td>\n      <td>0</td>\n      <td>0</td>\n      <td>0</td>\n      <td>0</td>\n      <td>0</td>\n      <td>0</td>\n      <td>0</td>\n    </tr>\n    <tr>\n      <th>2</th>\n      <td>1</td>\n      <td>1</td>\n      <td>0</td>\n      <td>0</td>\n      <td>0</td>\n      <td>0</td>\n      <td>1</td>\n      <td>0</td>\n    </tr>\n    <tr>\n      <th>3</th>\n      <td>1</td>\n      <td>1</td>\n      <td>0</td>\n      <td>0</td>\n      <td>0</td>\n      <td>0</td>\n      <td>0</td>\n      <td>0</td>\n    </tr>\n    <tr>\n      <th>4</th>\n      <td>1</td>\n      <td>1</td>\n      <td>0</td>\n      <td>0</td>\n      <td>0</td>\n      <td>0</td>\n      <td>1</td>\n      <td>0</td>\n    </tr>\n    <tr>\n      <th>...</th>\n      <td>...</td>\n      <td>...</td>\n      <td>...</td>\n      <td>...</td>\n      <td>...</td>\n      <td>...</td>\n      <td>...</td>\n      <td>...</td>\n    </tr>\n    <tr>\n      <th>1995</th>\n      <td>1</td>\n      <td>1</td>\n      <td>0</td>\n      <td>0</td>\n      <td>0</td>\n      <td>0</td>\n      <td>1</td>\n      <td>0</td>\n    </tr>\n    <tr>\n      <th>1996</th>\n      <td>0</td>\n      <td>0</td>\n      <td>0</td>\n      <td>0</td>\n      <td>0</td>\n      <td>0</td>\n      <td>0</td>\n      <td>0</td>\n    </tr>\n    <tr>\n      <th>1997</th>\n      <td>1</td>\n      <td>0</td>\n      <td>0</td>\n      <td>0</td>\n      <td>0</td>\n      <td>0</td>\n      <td>0</td>\n      <td>0</td>\n    </tr>\n    <tr>\n      <th>1998</th>\n      <td>1</td>\n      <td>1</td>\n      <td>1</td>\n      <td>0</td>\n      <td>0</td>\n      <td>1</td>\n      <td>1</td>\n      <td>0</td>\n    </tr>\n    <tr>\n      <th>1999</th>\n      <td>1</td>\n      <td>1</td>\n      <td>0</td>\n      <td>0</td>\n      <td>0</td>\n      <td>0</td>\n      <td>1</td>\n      <td>0</td>\n    </tr>\n  </tbody>\n</table>\n<p>2000 rows × 8 columns</p>\n</div>"
     },
     "execution_count": 7,
     "metadata": {},
     "output_type": "execute_result"
    }
   ],
   "source": [
    "data = pd.read_csv(r\"../datasets/Asian.csv\", )\n",
    "data[data == 'no'] = 0\n",
    "data[data == 'yes'] = 1\n",
    "data = data.astype(int)[:2000]\n",
    "data"
   ]
  },
  {
   "cell_type": "code",
   "execution_count": 8,
   "metadata": {},
   "outputs": [
    {
     "data": {
      "text/plain": "OutEdgeView([('asia', 'tub'), ('tub', 'either'), ('either', 'dysp'), ('either', 'xray'), ('smoke', 'lung'), ('smoke', 'bronc'), ('lung', 'either'), ('bronc', 'dysp')])"
     },
     "execution_count": 8,
     "metadata": {},
     "output_type": "execute_result"
    }
   ],
   "source": [
    "ground_truth = DAG()\n",
    "ground_truth.read_excel(r\"../datasets/Asian net.xlsx\")\n",
    "ground_truth.edges"
   ]
  },
  {
   "cell_type": "code",
   "execution_count": 4,
   "metadata": {
    "pycharm": {
     "name": "#%%\n"
    }
   },
   "outputs": [
    {
     "name": "stderr",
     "output_type": "stream",
     "text": [
      "\r",
      "Hill climbing:   0%|          | 0/1000 [00:00<?, ?it/s]"
     ]
    },
    {
     "name": "stdout",
     "output_type": "stream",
     "text": [
      "=========Estimator Information=========\n",
      "\n",
      "        ·▄▄▄▄    ▄▄▌    ▄▄▄▄·    ▐ ▄ \n",
      "        ██▪ ██   ██•    ▐█ ▀█▪  •█▌▐█\n",
      "        ▐█· ▐█▌  ██▪    ▐█▀▀█▄  ▐█▐▐▌\n",
      "        ██. ██   ▐█▌▐▌  ██▄▪▐█  ██▐█▌\n",
      "        ▀▀▀▀▀•   .▀▀▀   ·▀▀▀▀   ▀▀ █▪\n",
      "        \n",
      "   smoke  bronc  lung  asia  tub  either  dysp  xray\n",
      "0      0      0     0     0    0       0     1     0\n",
      "1      0      0     0     0    0       0     0     0\n",
      "2      1      1     0     0    0       0     1     0\n",
      "3      1      1     0     0    0       0     0     0\n",
      "4      1      1     0     0    0       0     1     0\n",
      "Recover the BN with 8 variables\n"
     ]
    },
    {
     "name": "stderr",
     "output_type": "stream",
     "text": [
      "Hill climbing:   1%|          | 11/1000 [00:02<04:29,  3.67it/s]\n"
     ]
    },
    {
     "data": {
      "image/png": "[encoded data removed]",
      "text/plain": [
       "<Figure size 432x288 with 1 Axes>"
      ]
     },
     "metadata": {},
     "output_type": "display_data"
    }
   ],
   "source": [
    "hc_est = HC(data,BIC_score)\n",
    "hc_est.run()\n",
    "hc_est.show()"
   ]
  },
  {
   "cell_type": "code",
   "execution_count": 5,
   "metadata": {},
   "outputs": [
    {
     "data": {
      "text/plain": [
       "OutEdgeView([('smoke', 'lung'), ('bronc', 'dysp'), ('bronc', 'smoke'), ('lung', 'either'), ('tub', 'either'), ('either', 'xray'), ('either', 'dysp')])"
      ]
     },
     "execution_count": 5,
     "metadata": {},
     "output_type": "execute_result"
    }
   ],
   "source": [
    "hc_est.result_dag.edges"
   ]
  },
  {
   "cell_type": "code",
   "execution_count": 6,
   "metadata": {},
   "outputs": [
    {
     "data": {
      "text/plain": [
       "-4649.87220770947"
      ]
     },
     "execution_count": 6,
     "metadata": {},
     "output_type": "execute_result"
    }
   ],
   "source": [
    "hc_est.result_dag.score(BIC_score,data)"
   ]
  },
  {
   "cell_type": "code",
   "execution_count": 7,
   "metadata": {},
   "outputs": [
    {
     "data": {
      "text/plain": [
       "3"
      ]
     },
     "execution_count": 7,
     "metadata": {},
     "output_type": "execute_result"
    }
   ],
   "source": [
    "ground_truth-hc_est.result_dag"
   ]
  },
  {
   "cell_type": "code",
   "execution_count": 8,
   "metadata": {
    "pycharm": {
     "name": "#%%\n"
    }
   },
   "outputs": [
    {
     "name": "stdout",
     "output_type": "stream",
     "text": [
      "=========Estimator Information=========\n",
      "\n",
      "        ·▄▄▄▄    ▄▄▌    ▄▄▄▄·    ▐ ▄ \n",
      "        ██▪ ██   ██•    ▐█ ▀█▪  •█▌▐█\n",
      "        ▐█· ▐█▌  ██▪    ▐█▀▀█▄  ▐█▐▐▌\n",
      "        ██. ██   ▐█▌▐▌  ██▄▪▐█  ██▐█▌\n",
      "        ▀▀▀▀▀•   .▀▀▀   ·▀▀▀▀   ▀▀ █▪\n",
      "        \n",
      "   smoke  bronc  lung  asia  tub  either  dysp  xray\n",
      "0      0      0     0     0    0       0     1     0\n",
      "1      0      0     0     0    0       0     0     0\n",
      "2      1      1     0     0    0       0     1     0\n",
      "3      1      1     0     0    0       0     0     0\n",
      "4      1      1     0     0    0       0     1     0\n",
      "Recover the BN with 8 variables\n"
     ]
    },
    {
     "name": "stderr",
     "output_type": "stream",
     "text": [
      "Adding cost: 100%|██████████| 1024/1024 [00:20<00:00, 51.11it/s] \n"
     ]
    },
    {
     "data": {
      "image/png": "[encoded data removed]",
      "text/plain": [
       "<Figure size 432x288 with 1 Axes>"
      ]
     },
     "metadata": {},
     "output_type": "display_data"
    }
   ],
   "source": [
    "spp_est = SPP(data)\n",
    "spp_est.run()\n",
    "spp_est.show()"
   ]
  },
  {
   "cell_type": "code",
   "execution_count": 9,
   "metadata": {},
   "outputs": [
    {
     "data": {
      "text/plain": [
       "OutEdgeView([('smoke', 'lung'), ('smoke', 'bronc'), ('lung', 'either'), ('bronc', 'dysp'), ('tub', 'either'), ('either', 'xray'), ('either', 'dysp')])"
      ]
     },
     "execution_count": 9,
     "metadata": {},
     "output_type": "execute_result"
    }
   ],
   "source": [
    "spp_est.result_dag.edges"
   ]
  },
  {
   "cell_type": "code",
   "execution_count": 10,
   "metadata": {},
   "outputs": [
    {
     "data": {
      "text/plain": [
       "-4649.87220770947"
      ]
     },
     "execution_count": 10,
     "metadata": {},
     "output_type": "execute_result"
    }
   ],
   "source": [
    "spp_est.result_dag.score(BIC_score,data)"
   ]
  },
  {
   "cell_type": "code",
   "execution_count": 11,
   "metadata": {},
   "outputs": [
    {
     "data": {
      "text/plain": [
       "1"
      ]
     },
     "execution_count": 11,
     "metadata": {},
     "output_type": "execute_result"
    }
   ],
   "source": [
    "spp_est.result_dag-ground_truth"
   ]
  },
  {
   "cell_type": "code",
   "execution_count": 12,
   "metadata": {
    "pycharm": {
     "name": "#%%\n"
    }
   },
   "outputs": [
    {
     "name": "stderr",
     "output_type": "stream",
     "text": [
      "  2%|▏         | 15/1000 [00:00<00:07, 139.31it/s]"
     ]
    },
    {
     "name": "stdout",
     "output_type": "stream",
     "text": [
      "=========Estimator Information=========\n",
      "\n",
      "        ·▄▄▄▄    ▄▄▌    ▄▄▄▄·    ▐ ▄ \n",
      "        ██▪ ██   ██•    ▐█ ▀█▪  •█▌▐█\n",
      "        ▐█· ▐█▌  ██▪    ▐█▀▀█▄  ▐█▐▐▌\n",
      "        ██. ██   ▐█▌▐▌  ██▄▪▐█  ██▐█▌\n",
      "        ▀▀▀▀▀•   .▀▀▀   ·▀▀▀▀   ▀▀ █▪\n",
      "        \n",
      "   smoke  bronc  lung  asia  tub  either  dysp  xray\n",
      "0      0      0     0     0    0       0     1     0\n",
      "1      0      0     0     0    0       0     0     0\n",
      "2      1      1     0     0    0       0     1     0\n",
      "3      1      1     0     0    0       0     0     0\n",
      "4      1      1     0     0    0       0     1     0\n",
      "Recover the BN with 8 variables\n"
     ]
    },
    {
     "name": "stderr",
     "output_type": "stream",
     "text": [
      "100%|██████████| 1000/1000 [00:08<00:00, 124.22it/s]\n"
     ]
    },
    {
     "data": {
      "image/png": "[encoded data removed]",
      "text/plain": [
       "<Figure size 432x288 with 1 Axes>"
      ]
     },
     "metadata": {},
     "output_type": "display_data"
    }
   ],
   "source": [
    "sa_est = SA(data,BIC_score)\n",
    "sa_est.run()\n",
    "sa_est.show()"
   ]
  },
  {
   "cell_type": "code",
   "execution_count": 13,
   "metadata": {
    "pycharm": {
     "name": "#%%\n"
    }
   },
   "outputs": [
    {
     "data": {
      "text/plain": [
       "OutEdgeView([('smoke', 'lung'), ('bronc', 'smoke'), ('bronc', 'dysp'), ('lung', 'either'), ('lung', 'dysp'), ('lung', 'xray'), ('tub', 'either'), ('tub', 'xray'), ('dysp', 'tub')])"
      ]
     },
     "execution_count": 13,
     "metadata": {},
     "output_type": "execute_result"
    }
   ],
   "source": [
    "sa_est.result_dag.edges"
   ]
  },
  {
   "cell_type": "code",
   "execution_count": 14,
   "metadata": {
    "pycharm": {
     "name": "#%%\n"
    }
   },
   "outputs": [
    {
     "data": {
      "text/plain": [
       "9"
      ]
     },
     "execution_count": 14,
     "metadata": {},
     "output_type": "execute_result"
    }
   ],
   "source": [
    "sa_est.result_dag-ground_truth"
   ]
  },
  {
   "cell_type": "code",
   "execution_count": 9,
   "outputs": [],
   "source": [
    "exp = pd.read_csv(r\"../datasets/Asian expert.csv\",index_col=0)"
   ],
   "metadata": {
    "collapsed": false,
    "pycharm": {
     "name": "#%%\n"
    }
   }
  },
  {
   "cell_type": "code",
   "execution_count": 10,
   "metadata": {},
   "outputs": [
    {
     "name": "stderr",
     "output_type": "stream",
     "text": [
      "Hill climbing:   0%|          | 0/1000 [00:00<?, ?it/s]"
     ]
    },
    {
     "name": "stdout",
     "output_type": "stream",
     "text": [
      "=========Estimator Information=========\n",
      "\n",
      "        ·▄▄▄▄    ▄▄▌    ▄▄▄▄·    ▐ ▄ \n",
      "        ██▪ ██   ██•    ▐█ ▀█▪  •█▌▐█\n",
      "        ▐█· ▐█▌  ██▪    ▐█▀▀█▄  ▐█▐▐▌\n",
      "        ██. ██   ▐█▌▐▌  ██▄▪▐█  ██▐█▌\n",
      "        ▀▀▀▀▀•   .▀▀▀   ·▀▀▀▀   ▀▀ █▪\n",
      "        \n",
      "   smoke  bronc  lung  asia  tub  either  dysp  xray\n",
      "0      0      0     0     0    0       0     1     0\n",
      "1      0      0     0     0    0       0     0     0\n",
      "2      1      1     0     0    0       0     1     0\n",
      "3      1      1     0     0    0       0     0     0\n",
      "4      1      1     0     0    0       0     1     0\n",
      "Recover the BN with 8 variables\n"
     ]
    },
    {
     "name": "stderr",
     "output_type": "stream",
     "text": [
      "Hill climbing:   1%|▏         | 14/1000 [00:07<08:17,  1.98it/s]\n"
     ]
    },
    {
     "data": {
      "text/plain": "<dlbn.graph.DAG at 0x2712c6de5e0>"
     },
     "execution_count": 10,
     "metadata": {},
     "output_type": "execute_result"
    }
   ],
   "source": [
    "expert = Expert(exp)\n",
    "hc_est = HC(data,Knowledge_fused_score,expert=expert)\n",
    "hc_est.run()"
   ]
  },
  {
   "cell_type": "code",
   "execution_count": 11,
   "outputs": [
    {
     "data": {
      "text/plain": "<Figure size 432x288 with 1 Axes>",
      "image/png": "[encoded data removed]"
     },
     "metadata": {},
     "output_type": "display_data"
    }
   ],
   "source": [
    "hc_est.show()"
   ],
   "metadata": {
    "collapsed": false,
    "pycharm": {
     "name": "#%%\n"
    }
   }
  },
  {
   "cell_type": "code",
   "execution_count": 15,
   "outputs": [
    {
     "data": {
      "text/plain": "OutEdgeView([('smoke', 'asia'), ('bronc', 'dysp'), ('bronc', 'smoke'), ('bronc', 'lung'), ('bronc', 'tub'), ('lung', 'xray'), ('lung', 'either'), ('lung', 'dysp'), ('lung', 'smoke'), ('tub', 'either'), ('tub', 'xray'), ('either', 'smoke'), ('dysp', 'asia'), ('dysp', 'tub')])"
     },
     "execution_count": 15,
     "metadata": {},
     "output_type": "execute_result"
    }
   ],
   "source": [
    "hc_est.result_dag.edges\n"
   ],
   "metadata": {
    "collapsed": false,
    "pycharm": {
     "name": "#%%\n"
    }
   }
  },
  {
   "cell_type": "code",
   "execution_count": 12,
   "outputs": [
    {
     "data": {
      "text/plain": "20"
     },
     "execution_count": 12,
     "metadata": {},
     "output_type": "execute_result"
    }
   ],
   "source": [
    "hc_est.result_dag-ground_truth"
   ],
   "metadata": {
    "collapsed": false,
    "pycharm": {
     "name": "#%%\n"
    }
   }
  },
  {
   "cell_type": "code",
   "execution_count": 13,
   "outputs": [
    {
     "data": {
      "text/plain": "-15326.102055966834"
     },
     "execution_count": 13,
     "metadata": {},
     "output_type": "execute_result"
    }
   ],
   "source": [
    "sk = Knowledge_fused_score(data,expert)\n",
    "sk.local_score('xray',['tub'])"
   ],
   "metadata": {
    "collapsed": false,
    "pycharm": {
     "name": "#%%\n"
    }
   }
  },
  {
   "cell_type": "code",
   "execution_count": null,
   "outputs": [],
   "source": [],
   "metadata": {
    "collapsed": false,
    "pycharm": {
     "name": "#%%\n"
    }
   }
  }
 ],
 "metadata": {
  "kernelspec": {
   "display_name": "Python 3 (ipykernel)",
   "language": "python",
   "name": "python3"
  },
  "language_info": {
   "codemirror_mode": {
    "name": "ipython",
    "version": 3
   },
   "file_extension": ".py",
   "mimetype": "text/x-python",
   "name": "python",
   "nbconvert_exporter": "python",
   "pygments_lexer": "ipython3",
   "version": "3.8.8"
  }
 },
 "nbformat": 4,
 "nbformat_minor": 1
}