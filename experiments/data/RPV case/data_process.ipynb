{
 "cells": [
  {
   "cell_type": "code",
   "execution_count": 1,
   "metadata": {
    "collapsed": true
   },
   "outputs": [],
   "source": [
    "import numpy as np\n",
    "import pandas as pd"
   ]
  },
  {
   "cell_type": "code",
   "execution_count": 74,
   "outputs": [],
   "source": [
    "data = pd.read_excel(r\"./result.xlsx\")"
   ],
   "metadata": {
    "collapsed": false,
    "pycharm": {
     "name": "#%%\n"
    }
   }
  },
  {
   "cell_type": "code",
   "execution_count": 75,
   "outputs": [
    {
     "data": {
      "text/plain": "D1            3775.700000\nD2            4360.700000\nD3            4674.100000\nD4            2996.600000\nD7            3925.000000\nD8            3801.000000\nD9            3955.100000\nD10           4682.300000\nD11           4071.000000\nD12           4085.100000\nD13           3989.000000\nD14           4002.580000\nD15           4010.300000\nD17           4154.400000\nR1             399.500000\nSR2           4055.200000\nR3             151.300000\nH1             192.000000\nH2             848.100000\nH3             606.000000\nH4             286.100000\nH5             130.700000\nT1             171.500000\nT2             234.600000\nM               58.000000\n胃               16.900000\nZX_IN            0.022742\nZX_OUT           0.047400\nJX_IN           -0.010313\nJX_OUT          -0.006344\nZJ_U            -0.011000\nZJ_D            -0.003900\nFL_ZKL           0.343800\nLS_YJL      535000.000000\nFL_JXWYL        -0.013064\nName: 673, dtype: float64"
     },
     "execution_count": 75,
     "metadata": {},
     "output_type": "execute_result"
    }
   ],
   "source": [
    "data.iloc[-2]"
   ],
   "metadata": {
    "collapsed": false,
    "pycharm": {
     "name": "#%%\n"
    }
   }
  },
  {
   "cell_type": "code",
   "execution_count": 76,
   "outputs": [
    {
     "name": "stderr",
     "output_type": "stream",
     "text": [
      "i:\\python_project\\dlbn\\venv\\lib\\site-packages\\pandas\\core\\indexing.py:1637: SettingWithCopyWarning: \n",
      "A value is trying to be set on a copy of a slice from a DataFrame\n",
      "\n",
      "See the caveats in the documentation: https://pandas.pydata.org/pandas-docs/stable/user_guide/indexing.html#returning-a-view-versus-a-copy\n",
      "  self._setitem_single_block(indexer, value, name)\n"
     ]
    }
   ],
   "source": [
    "data1 = data.apply(lambda x: (x - np.mean(x)) / (np.std(x)))\n",
    "data1[\"reliability\"]=0\n",
    "data1[\"reliability\"].iloc[0]=100"
   ],
   "metadata": {
    "collapsed": false,
    "pycharm": {
     "name": "#%%\n"
    }
   }
  },
  {
   "cell_type": "code",
   "execution_count": 76,
   "outputs": [],
   "source": [],
   "metadata": {
    "collapsed": false,
    "pycharm": {
     "name": "#%%\n"
    }
   }
  },
  {
   "cell_type": "code",
   "execution_count": 77,
   "outputs": [
    {
     "data": {
      "text/plain": "Index(['D1', 'D2', 'D3', 'D4', 'D7', 'D8', 'D9', 'D10', 'D11', 'D12', 'D13',\n       'D14', 'D15', 'D17', 'R1', 'SR2', 'R3', 'H1', 'H2', 'H3', 'H4', 'H5',\n       'T1', 'T2', 'M', '胃', 'ZX_IN', 'ZX_OUT', 'JX_IN', 'JX_OUT', 'ZJ_U',\n       'ZJ_D', 'FL_ZKL', 'LS_YJL', 'FL_JXWYL', 'reliability'],\n      dtype='object')"
     },
     "execution_count": 77,
     "metadata": {},
     "output_type": "execute_result"
    }
   ],
   "source": [
    "data1.columns"
   ],
   "metadata": {
    "collapsed": false,
    "pycharm": {
     "name": "#%%\n"
    }
   }
  },
  {
   "cell_type": "code",
   "execution_count": 78,
   "outputs": [],
   "source": [
    "centrality = {\n",
    "    \"D11\":0.114,\n",
    "    \"D12\":0.091,\n",
    "    \"D13\":0.068,\n",
    "    \"D14\":0.136,\n",
    "    \"D15\":0.114,\n",
    "    \"胃\":0.091,\n",
    "    \"ZX_OUT\":0.068,\n",
    "    \"ZJ_D\":0.068,\n",
    "    \"ZJ_U\":0.068,\n",
    "    \"ZX_IN\":0.068,\n",
    "    \"FL_ZKL\":0.057,\n",
    "    \"LS_YJL\":0.057,\n",
    "}\n"
   ],
   "metadata": {
    "collapsed": false,
    "pycharm": {
     "name": "#%%\n"
    }
   }
  },
  {
   "cell_type": "code",
   "execution_count": 79,
   "outputs": [
    {
     "data": {
      "text/plain": "           D1        D2        D3        D4        D7        D8        D9  \\\n0   -0.200461  1.999485  0.041215 -0.701137 -0.113975  0.344492  0.795103   \n1    0.374404 -1.245006  0.918518 -0.681966  0.999476 -0.802805 -1.119335   \n2    0.414050  0.284007 -0.992053  0.487496 -0.513137 -0.569457 -0.080651   \n3    0.433873  1.906252 -0.992053  1.235184 -0.471120 -1.425068  1.976352   \n4   -0.557275  0.862048 -0.485167  1.656957 -0.807256  0.188926  0.408142   \n..        ...       ...       ...       ...       ...       ...       ...   \n670  0.532988  0.190774  0.099702 -2.004799 -0.366077  0.247263 -0.426879   \n671  1.266437  1.365504  0.041215 -0.375222  0.243170  0.733406  1.609758   \n672 -0.200461  1.999485  0.041215 -0.701137 -0.113975  0.344492  0.795103   \n673 -0.200461  1.999485  0.041215 -0.701137 -0.113975  0.344492  0.795103   \n674 -0.200461  1.999485  0.041215 -0.701137 -0.113975  0.344492  0.795103   \n\n          D10        D11        D12  ...     ZX_IN     ZX_OUT     JX_IN  \\\n0   -0.460408   0.567309   0.181498  ...  0.623585   0.673493 -0.158450   \n1    0.013523  -0.072068  -0.246222  ...  0.361163  -0.118292 -0.104370   \n2   -0.584042  -0.064456  -0.108740  ...  0.361163  -0.118292 -0.104370   \n3    0.034129  -0.209077   0.479374  ... -0.954628   0.149798 -0.470763   \n4    0.961386  -0.277582   0.296066  ...  0.361316   0.002440 -0.178316   \n..        ...        ...        ...  ...       ...        ...       ...   \n670 -0.419197   0.141058  -0.337876  ... -2.529131  -0.158914  0.046266   \n671  1.105626   0.346572  -0.070551  ... -0.299566  -0.448539 -0.060831   \n672 -0.460408   0.567309   0.181498  ...  0.623585   0.673493 -0.158450   \n673 -0.460408  -0.087291  -0.062913  ...  0.623585  10.457548 -0.158450   \n674 -0.460408  23.950232  23.988677  ...  2.013080   4.937151 -0.158450   \n\n       JX_OUT      ZJ_U      ZJ_D    FL_ZKL    LS_YJL  FL_JXWYL  reliability  \n0   -0.147884  0.521797  0.695738  0.822839  1.050740 -0.176363   100.000000  \n1   -0.068185 -0.819852 -0.581429  0.118469  0.569921  0.107321    99.989878  \n2   -0.068185 -0.819852 -0.581429  0.118469  0.569921  0.107321    99.989878  \n3   -0.203519  1.165313  0.277739 -0.562343 -0.764534 -0.440727    99.854026  \n4   -0.188545  0.912268 -0.303400 -1.167365 -0.746568 -0.205086    99.857629  \n..        ...       ...       ...       ...       ...       ...          ...  \n670  0.223366  0.194939  0.114342  0.576281  0.750007  0.292521    99.995962  \n671 -0.084979  1.018399  0.471746 -0.044015 -0.060203 -0.302962    99.945313  \n672 -0.147884  0.521797  0.695738  0.822839  1.050740 -0.176363   100.000000  \n673 -0.147884  2.749954  2.860172  1.704600 -5.330555 -0.176363    98.203254  \n674 -0.147884  2.749954  2.860172  1.704600  0.900205 -0.176363    99.999255  \n\n[675 rows x 36 columns]",
      "text/html": "<div>\n<style scoped>\n    .dataframe tbody tr th:only-of-type {\n        vertical-align: middle;\n    }\n\n    .dataframe tbody tr th {\n        vertical-align: top;\n    }\n\n    .dataframe thead th {\n        text-align: right;\n    }\n</style>\n<table border=\"1\" class=\"dataframe\">\n  <thead>\n    <tr style=\"text-align: right;\">\n      <th></th>\n      <th>D1</th>\n      <th>D2</th>\n      <th>D3</th>\n      <th>D4</th>\n      <th>D7</th>\n      <th>D8</th>\n      <th>D9</th>\n      <th>D10</th>\n      <th>D11</th>\n      <th>D12</th>\n      <th>...</th>\n      <th>ZX_IN</th>\n      <th>ZX_OUT</th>\n      <th>JX_IN</th>\n      <th>JX_OUT</th>\n      <th>ZJ_U</th>\n      <th>ZJ_D</th>\n      <th>FL_ZKL</th>\n      <th>LS_YJL</th>\n      <th>FL_JXWYL</th>\n      <th>reliability</th>\n    </tr>\n  </thead>\n  <tbody>\n    <tr>\n      <th>0</th>\n      <td>-0.200461</td>\n      <td>1.999485</td>\n      <td>0.041215</td>\n      <td>-0.701137</td>\n      <td>-0.113975</td>\n      <td>0.344492</td>\n      <td>0.795103</td>\n      <td>-0.460408</td>\n      <td>0.567309</td>\n      <td>0.181498</td>\n      <td>...</td>\n      <td>0.623585</td>\n      <td>0.673493</td>\n      <td>-0.158450</td>\n      <td>-0.147884</td>\n      <td>0.521797</td>\n      <td>0.695738</td>\n      <td>0.822839</td>\n      <td>1.050740</td>\n      <td>-0.176363</td>\n      <td>100.000000</td>\n    </tr>\n    <tr>\n      <th>1</th>\n      <td>0.374404</td>\n      <td>-1.245006</td>\n      <td>0.918518</td>\n      <td>-0.681966</td>\n      <td>0.999476</td>\n      <td>-0.802805</td>\n      <td>-1.119335</td>\n      <td>0.013523</td>\n      <td>-0.072068</td>\n      <td>-0.246222</td>\n      <td>...</td>\n      <td>0.361163</td>\n      <td>-0.118292</td>\n      <td>-0.104370</td>\n      <td>-0.068185</td>\n      <td>-0.819852</td>\n      <td>-0.581429</td>\n      <td>0.118469</td>\n      <td>0.569921</td>\n      <td>0.107321</td>\n      <td>99.989878</td>\n    </tr>\n    <tr>\n      <th>2</th>\n      <td>0.414050</td>\n      <td>0.284007</td>\n      <td>-0.992053</td>\n      <td>0.487496</td>\n      <td>-0.513137</td>\n      <td>-0.569457</td>\n      <td>-0.080651</td>\n      <td>-0.584042</td>\n      <td>-0.064456</td>\n      <td>-0.108740</td>\n      <td>...</td>\n      <td>0.361163</td>\n      <td>-0.118292</td>\n      <td>-0.104370</td>\n      <td>-0.068185</td>\n      <td>-0.819852</td>\n      <td>-0.581429</td>\n      <td>0.118469</td>\n      <td>0.569921</td>\n      <td>0.107321</td>\n      <td>99.989878</td>\n    </tr>\n    <tr>\n      <th>3</th>\n      <td>0.433873</td>\n      <td>1.906252</td>\n      <td>-0.992053</td>\n      <td>1.235184</td>\n      <td>-0.471120</td>\n      <td>-1.425068</td>\n      <td>1.976352</td>\n      <td>0.034129</td>\n      <td>-0.209077</td>\n      <td>0.479374</td>\n      <td>...</td>\n      <td>-0.954628</td>\n      <td>0.149798</td>\n      <td>-0.470763</td>\n      <td>-0.203519</td>\n      <td>1.165313</td>\n      <td>0.277739</td>\n      <td>-0.562343</td>\n      <td>-0.764534</td>\n      <td>-0.440727</td>\n      <td>99.854026</td>\n    </tr>\n    <tr>\n      <th>4</th>\n      <td>-0.557275</td>\n      <td>0.862048</td>\n      <td>-0.485167</td>\n      <td>1.656957</td>\n      <td>-0.807256</td>\n      <td>0.188926</td>\n      <td>0.408142</td>\n      <td>0.961386</td>\n      <td>-0.277582</td>\n      <td>0.296066</td>\n      <td>...</td>\n      <td>0.361316</td>\n      <td>0.002440</td>\n      <td>-0.178316</td>\n      <td>-0.188545</td>\n      <td>0.912268</td>\n      <td>-0.303400</td>\n      <td>-1.167365</td>\n      <td>-0.746568</td>\n      <td>-0.205086</td>\n      <td>99.857629</td>\n    </tr>\n    <tr>\n      <th>...</th>\n      <td>...</td>\n      <td>...</td>\n      <td>...</td>\n      <td>...</td>\n      <td>...</td>\n      <td>...</td>\n      <td>...</td>\n      <td>...</td>\n      <td>...</td>\n      <td>...</td>\n      <td>...</td>\n      <td>...</td>\n      <td>...</td>\n      <td>...</td>\n      <td>...</td>\n      <td>...</td>\n      <td>...</td>\n      <td>...</td>\n      <td>...</td>\n      <td>...</td>\n      <td>...</td>\n    </tr>\n    <tr>\n      <th>670</th>\n      <td>0.532988</td>\n      <td>0.190774</td>\n      <td>0.099702</td>\n      <td>-2.004799</td>\n      <td>-0.366077</td>\n      <td>0.247263</td>\n      <td>-0.426879</td>\n      <td>-0.419197</td>\n      <td>0.141058</td>\n      <td>-0.337876</td>\n      <td>...</td>\n      <td>-2.529131</td>\n      <td>-0.158914</td>\n      <td>0.046266</td>\n      <td>0.223366</td>\n      <td>0.194939</td>\n      <td>0.114342</td>\n      <td>0.576281</td>\n      <td>0.750007</td>\n      <td>0.292521</td>\n      <td>99.995962</td>\n    </tr>\n    <tr>\n      <th>671</th>\n      <td>1.266437</td>\n      <td>1.365504</td>\n      <td>0.041215</td>\n      <td>-0.375222</td>\n      <td>0.243170</td>\n      <td>0.733406</td>\n      <td>1.609758</td>\n      <td>1.105626</td>\n      <td>0.346572</td>\n      <td>-0.070551</td>\n      <td>...</td>\n      <td>-0.299566</td>\n      <td>-0.448539</td>\n      <td>-0.060831</td>\n      <td>-0.084979</td>\n      <td>1.018399</td>\n      <td>0.471746</td>\n      <td>-0.044015</td>\n      <td>-0.060203</td>\n      <td>-0.302962</td>\n      <td>99.945313</td>\n    </tr>\n    <tr>\n      <th>672</th>\n      <td>-0.200461</td>\n      <td>1.999485</td>\n      <td>0.041215</td>\n      <td>-0.701137</td>\n      <td>-0.113975</td>\n      <td>0.344492</td>\n      <td>0.795103</td>\n      <td>-0.460408</td>\n      <td>0.567309</td>\n      <td>0.181498</td>\n      <td>...</td>\n      <td>0.623585</td>\n      <td>0.673493</td>\n      <td>-0.158450</td>\n      <td>-0.147884</td>\n      <td>0.521797</td>\n      <td>0.695738</td>\n      <td>0.822839</td>\n      <td>1.050740</td>\n      <td>-0.176363</td>\n      <td>100.000000</td>\n    </tr>\n    <tr>\n      <th>673</th>\n      <td>-0.200461</td>\n      <td>1.999485</td>\n      <td>0.041215</td>\n      <td>-0.701137</td>\n      <td>-0.113975</td>\n      <td>0.344492</td>\n      <td>0.795103</td>\n      <td>-0.460408</td>\n      <td>-0.087291</td>\n      <td>-0.062913</td>\n      <td>...</td>\n      <td>0.623585</td>\n      <td>10.457548</td>\n      <td>-0.158450</td>\n      <td>-0.147884</td>\n      <td>2.749954</td>\n      <td>2.860172</td>\n      <td>1.704600</td>\n      <td>-5.330555</td>\n      <td>-0.176363</td>\n      <td>98.203254</td>\n    </tr>\n    <tr>\n      <th>674</th>\n      <td>-0.200461</td>\n      <td>1.999485</td>\n      <td>0.041215</td>\n      <td>-0.701137</td>\n      <td>-0.113975</td>\n      <td>0.344492</td>\n      <td>0.795103</td>\n      <td>-0.460408</td>\n      <td>23.950232</td>\n      <td>23.988677</td>\n      <td>...</td>\n      <td>2.013080</td>\n      <td>4.937151</td>\n      <td>-0.158450</td>\n      <td>-0.147884</td>\n      <td>2.749954</td>\n      <td>2.860172</td>\n      <td>1.704600</td>\n      <td>0.900205</td>\n      <td>-0.176363</td>\n      <td>99.999255</td>\n    </tr>\n  </tbody>\n</table>\n<p>675 rows × 36 columns</p>\n</div>"
     },
     "execution_count": 79,
     "metadata": {},
     "output_type": "execute_result"
    }
   ],
   "source": [
    "def r(data):\n",
    "    for i in range(1,len(data)):\n",
    "        s = 0\n",
    "        for node in centrality.keys():\n",
    "            weight = centrality[node]\n",
    "            y = data.iloc[i][node]\n",
    "            t = data.iloc[0][node]\n",
    "            s += weight*(y-t)**2\n",
    "            s = -s\n",
    "            s = s/64\n",
    "            s = s/2\n",
    "            result = 100*(np.exp(s))\n",
    "            data[\"reliability\"].iloc[i]=result\n",
    "    return data\n",
    "data2 = r(data1)\n",
    "data2"
   ],
   "metadata": {
    "collapsed": false,
    "pycharm": {
     "name": "#%%\n"
    }
   }
  },
  {
   "cell_type": "code",
   "execution_count": 80,
   "outputs": [
    {
     "data": {
      "text/plain": "-0.20046148801573693"
     },
     "execution_count": 80,
     "metadata": {},
     "output_type": "execute_result"
    }
   ],
   "source": [
    "data1.iloc[0]['D1']"
   ],
   "metadata": {
    "collapsed": false,
    "pycharm": {
     "name": "#%%\n"
    }
   }
  },
  {
   "cell_type": "code",
   "execution_count": 81,
   "outputs": [
    {
     "data": {
      "text/plain": "D1             -0.200461\nD2              1.999485\nD3              0.041215\nD4             -0.701137\nD7             -0.113975\nD8              0.344492\nD9              0.795103\nD10            -0.460408\nD11            -0.087291\nD12            -0.062913\nD13            -0.030712\nD14            -0.035542\nD15             0.694069\nD17            -0.721840\nR1             -0.141956\nSR2            -0.101328\nR3              0.255769\nH1             -1.500166\nH2             -0.405720\nH3              1.183199\nH4              1.359917\nH5             -1.047826\nT1              1.530405\nT2              0.048214\nM                    NaN\n胃              -0.571724\nZX_IN           0.623585\nZX_OUT         10.457548\nJX_IN          -0.158450\nJX_OUT         -0.147884\nZJ_U            2.749954\nZJ_D            2.860172\nFL_ZKL          1.704600\nLS_YJL         -5.330555\nFL_JXWYL       -0.176363\nreliability    98.203254\nName: 673, dtype: float64"
     },
     "execution_count": 81,
     "metadata": {},
     "output_type": "execute_result"
    }
   ],
   "source": [
    "data1.iloc[-2]"
   ],
   "metadata": {
    "collapsed": false,
    "pycharm": {
     "name": "#%%\n"
    }
   }
  },
  {
   "cell_type": "code",
   "execution_count": 82,
   "outputs": [
    {
     "data": {
      "text/plain": "D1             -0.200461\nD2              1.999485\nD3              0.041215\nD4             -0.701137\nD7             -0.113975\nD8              0.344492\nD9              0.795103\nD10            -0.460408\nD11            23.950232\nD12            23.988677\nD13            23.808121\nD14            23.787916\nD15             0.694069\nD17            -0.721840\nR1             -0.141956\nSR2            -0.101328\nR3              0.255769\nH1             -1.500166\nH2             -0.405720\nH3              1.183199\nH4              1.359917\nH5             -1.047826\nT1              1.530405\nT2              0.048214\nM                    NaN\n胃              -0.571724\nZX_IN           2.013080\nZX_OUT          4.937151\nJX_IN          -0.158450\nJX_OUT         -0.147884\nZJ_U            2.749954\nZJ_D            2.860172\nFL_ZKL          1.704600\nLS_YJL          0.900205\nFL_JXWYL       -0.176363\nreliability    99.999255\nName: 674, dtype: float64"
     },
     "execution_count": 82,
     "metadata": {},
     "output_type": "execute_result"
    }
   ],
   "source": [
    "data1.iloc[-1]"
   ],
   "metadata": {
    "collapsed": false,
    "pycharm": {
     "name": "#%%\n"
    }
   }
  }
 ],
 "metadata": {
  "kernelspec": {
   "display_name": "Python 3",
   "language": "python",
   "name": "python3"
  },
  "language_info": {
   "codemirror_mode": {
    "name": "ipython",
    "version": 2
   },
   "file_extension": ".py",
   "mimetype": "text/x-python",
   "name": "python",
   "nbconvert_exporter": "python",
   "pygments_lexer": "ipython2",
   "version": "2.7.6"
  }
 },
 "nbformat": 4,
 "nbformat_minor": 0
}