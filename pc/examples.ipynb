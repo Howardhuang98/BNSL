{
 "cells": [
  {
   "cell_type": "code",
   "execution_count": 23,
   "metadata": {
    "collapsed": true
   },
   "outputs": [],
   "source": [
    "import pandas as pd\n",
    "\n",
    "from dlbn.estimators import *"
   ]
  },
  {
   "cell_type": "code",
   "execution_count": 34,
   "outputs": [],
   "source": [
    "data = pd.read_csv(r\"datasets/Asian.csv\",)\n",
    "data[data=='no']=0\n",
    "data[data=='yes']=1\n",
    "d = data.values.astype(int)\n",
    "data = pd.DataFrame(d)"
   ],
   "metadata": {
    "collapsed": false,
    "pycharm": {
     "name": "#%%\n"
    }
   }
  },
  {
   "cell_type": "code",
   "execution_count": 19,
   "outputs": [],
   "source": [],
   "metadata": {
    "collapsed": false,
    "pycharm": {
     "name": "#%%\n"
    }
   }
  },
  {
   "cell_type": "code",
   "execution_count": 35,
   "outputs": [
    {
     "data": {
      "text/plain": "          0         1         2         3         4         5         6  \\\n0  1.000000  0.295793  0.189298  0.007511 -0.017894  0.163857  0.215838   \n1  0.295793  1.000000  0.046548 -0.011230 -0.008535  0.037766  0.657072   \n2  0.189298  0.046548  1.000000 -0.012732 -0.017584  0.900213  0.172402   \n3  0.007511 -0.011230 -0.012732  1.000000 -0.010296 -0.016050 -0.022829   \n4 -0.017894 -0.008535 -0.017584 -0.010296  1.000000  0.415816  0.067689   \n5  0.163857  0.037766  0.900213 -0.016050  0.415816  1.000000  0.185938   \n6  0.215838  0.657072  0.172402 -0.022829  0.067689  0.185938  1.000000   \n7  0.111705  0.031781  0.651272  0.001463  0.312746  0.728611  0.137870   \n\n          7  \n0  0.111705  \n1  0.031781  \n2  0.651272  \n3  0.001463  \n4  0.312746  \n5  0.728611  \n6  0.137870  \n7  1.000000  ",
      "text/html": "<div>\n<style scoped>\n    .dataframe tbody tr th:only-of-type {\n        vertical-align: middle;\n    }\n\n    .dataframe tbody tr th {\n        vertical-align: top;\n    }\n\n    .dataframe thead th {\n        text-align: right;\n    }\n</style>\n<table border=\"1\" class=\"dataframe\">\n  <thead>\n    <tr style=\"text-align: right;\">\n      <th></th>\n      <th>0</th>\n      <th>1</th>\n      <th>2</th>\n      <th>3</th>\n      <th>4</th>\n      <th>5</th>\n      <th>6</th>\n      <th>7</th>\n    </tr>\n  </thead>\n  <tbody>\n    <tr>\n      <th>0</th>\n      <td>1.000000</td>\n      <td>0.295793</td>\n      <td>0.189298</td>\n      <td>0.007511</td>\n      <td>-0.017894</td>\n      <td>0.163857</td>\n      <td>0.215838</td>\n      <td>0.111705</td>\n    </tr>\n    <tr>\n      <th>1</th>\n      <td>0.295793</td>\n      <td>1.000000</td>\n      <td>0.046548</td>\n      <td>-0.011230</td>\n      <td>-0.008535</td>\n      <td>0.037766</td>\n      <td>0.657072</td>\n      <td>0.031781</td>\n    </tr>\n    <tr>\n      <th>2</th>\n      <td>0.189298</td>\n      <td>0.046548</td>\n      <td>1.000000</td>\n      <td>-0.012732</td>\n      <td>-0.017584</td>\n      <td>0.900213</td>\n      <td>0.172402</td>\n      <td>0.651272</td>\n    </tr>\n    <tr>\n      <th>3</th>\n      <td>0.007511</td>\n      <td>-0.011230</td>\n      <td>-0.012732</td>\n      <td>1.000000</td>\n      <td>-0.010296</td>\n      <td>-0.016050</td>\n      <td>-0.022829</td>\n      <td>0.001463</td>\n    </tr>\n    <tr>\n      <th>4</th>\n      <td>-0.017894</td>\n      <td>-0.008535</td>\n      <td>-0.017584</td>\n      <td>-0.010296</td>\n      <td>1.000000</td>\n      <td>0.415816</td>\n      <td>0.067689</td>\n      <td>0.312746</td>\n    </tr>\n    <tr>\n      <th>5</th>\n      <td>0.163857</td>\n      <td>0.037766</td>\n      <td>0.900213</td>\n      <td>-0.016050</td>\n      <td>0.415816</td>\n      <td>1.000000</td>\n      <td>0.185938</td>\n      <td>0.728611</td>\n    </tr>\n    <tr>\n      <th>6</th>\n      <td>0.215838</td>\n      <td>0.657072</td>\n      <td>0.172402</td>\n      <td>-0.022829</td>\n      <td>0.067689</td>\n      <td>0.185938</td>\n      <td>1.000000</td>\n      <td>0.137870</td>\n    </tr>\n    <tr>\n      <th>7</th>\n      <td>0.111705</td>\n      <td>0.031781</td>\n      <td>0.651272</td>\n      <td>0.001463</td>\n      <td>0.312746</td>\n      <td>0.728611</td>\n      <td>0.137870</td>\n      <td>1.000000</td>\n    </tr>\n  </tbody>\n</table>\n</div>"
     },
     "execution_count": 35,
     "metadata": {},
     "output_type": "execute_result"
    }
   ],
   "source": [
    "data.corr()"
   ],
   "metadata": {
    "collapsed": false,
    "pycharm": {
     "name": "#%%\n"
    }
   }
  },
  {
   "cell_type": "code",
   "execution_count": null,
   "outputs": [],
   "source": [],
   "metadata": {
    "collapsed": false,
    "pycharm": {
     "name": "#%%\n"
    }
   }
  }
 ],
 "metadata": {
  "kernelspec": {
   "display_name": "Python 3",
   "language": "python",
   "name": "python3"
  },
  "language_info": {
   "codemirror_mode": {
    "name": "ipython",
    "version": 2
   },
   "file_extension": ".py",
   "mimetype": "text/x-python",
   "name": "python",
   "nbconvert_exporter": "python",
   "pygments_lexer": "ipython2",
   "version": "2.7.6"
  }
 },
 "nbformat": 4,
 "nbformat_minor": 0
}